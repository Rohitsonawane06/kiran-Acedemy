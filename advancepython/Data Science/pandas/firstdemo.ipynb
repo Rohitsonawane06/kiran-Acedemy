{
 "cells": [
  {
   "cell_type": "code",
   "execution_count": 1,
   "id": "530d5196",
   "metadata": {},
   "outputs": [
    {
     "data": {
      "text/plain": [
       "0    10\n",
       "1    20\n",
       "2    30\n",
       "3    40\n",
       "dtype: int64"
      ]
     },
     "execution_count": 1,
     "metadata": {},
     "output_type": "execute_result"
    }
   ],
   "source": [
    "import pandas as pd\n",
    "import numpy as np\n",
    "\n",
    "ser=pd.Series([10,20,30,40])\n",
    "ser"
   ]
  },
  {
   "cell_type": "code",
   "execution_count": 2,
   "id": "ffd3b030",
   "metadata": {},
   "outputs": [
    {
     "name": "stdout",
     "output_type": "stream",
     "text": [
      "       name     city  marks\n",
      "0     Rohit     Pune     89\n",
      "1       Raj   mumbai     99\n",
      "2      Riya   Nashik     56\n",
      "3    Sajiri   Nagpur     78\n",
      "4  Priyashu  jalgaon     45\n"
     ]
    }
   ],
   "source": [
    "data={\n",
    "    \"name\":[\"Rohit\",\"Raj\",\"Riya\",\"Sajiri\",\"Priyashu\"],\n",
    "    \"city\":[\"Pune\",\"mumbai\",\"Nashik\",\"Nagpur\",\"jalgaon\"],\n",
    "    \"marks\":[89,99,56,78,45]\n",
    "}\n",
    "df= pd.DataFrame(data)\n",
    "print(df)"
   ]
  },
  {
   "cell_type": "code",
   "execution_count": 3,
   "id": "452e00ff",
   "metadata": {},
   "outputs": [
    {
     "name": "stdout",
     "output_type": "stream",
     "text": [
      "    name    city  marks\n",
      "0  Rohit    Pune     89\n",
      "1    Raj  mumbai     99\n",
      "2   Riya  Nashik     56\n",
      "name     Rohit\n",
      "city      Pune\n",
      "marks       89\n",
      "Name: 0, dtype: object\n"
     ]
    }
   ],
   "source": [
    "print(df[0:3])\n",
    "print(df.iloc[0])"
   ]
  },
  {
   "cell_type": "code",
   "execution_count": 4,
   "id": "21c9314f",
   "metadata": {},
   "outputs": [],
   "source": [
    "df.to_csv('student.csv')"
   ]
  },
  {
   "cell_type": "code",
   "execution_count": null,
   "id": "2d723b12",
   "metadata": {},
   "outputs": [],
   "source": [
    "employee={\n",
    "    \"eid\":[101,102,103,104,105],\n",
    "    \"ename\":[\"Rohit\",\"Vijay\",\"Harshal\",\"Santosh\",\"Durgesh\"],\n",
    "    \"Salary\":[70000,80000,75000,67000,76000],\n",
    "    \"Role\":[\"HR\",\"Oprator\",\"Sale\",\"Services\",\"Newtworking\"]\n",
    "}\n",
    "df=pd.DataFrame(employee)\n",
    "\n",
    "#1,Show All Employee Data\n",
    "# print(df)\n",
    "\n",
    "\n",
    "#2.Show only first 3 columns info\n",
    "# print(df.iloc[:,:3])\n",
    "\n",
    "#3.Show last 3 column info\n",
    "# print(df.iloc[:,-3:])\n",
    "\n",
    "# 4.Show last 3 rows info\n",
    "# print(df.tell(3))\n",
    "\n",
    "# 5.show only sal columns\n",
    "# print(df[\"Salary\"])\n",
    "\n",
    "#6.Show value of columns name role and row number 3(single value)\n",
    "# print(df.loc[3,\"Role\"])\n",
    "\n",
    "# #7 chnage index of dataframe as \"first\",\"Second \"..like this\n",
    "# df.index=[\"Firts\",\"Second\",\"Third\",\"Four\",\"Five\"]\n",
    "# print(df)\n",
    "\n",
    "#8.show first 3 rows by iloc method\n",
    "# print(df.iloc[:3])\n",
    "\n",
    "\n",
    "#9.Convert dataframe into json like structure\n",
    "# df.to_json(\"Employee.json\")\n",
    "\n",
    "#10.Show staticstic info of dataframe6\n",
    "# print(df.describe())\n",
    "\n",
    "#11."
   ]
  },
  {
   "cell_type": "code",
   "execution_count": 10,
   "id": "b61d5f75",
   "metadata": {},
   "outputs": [
    {
     "name": "stdout",
     "output_type": "stream",
     "text": [
      "   pid   pname  Price  stock     category\n",
      "0  101  Mobile  56000     60   electonics\n",
      "1  102  Laptop  78000    100  electronics\n",
      "2  103     pen    100     30   stationary\n",
      "3  104  Pencil     50     40   stationary\n",
      "4  105   Chair   1200     50    furniture\n"
     ]
    }
   ],
   "source": [
    "product={\n",
    "    \"pid\":[101,102,103,104,105],\n",
    "    \"pname\":[\"Mobile\",\"Laptop\",\"pen\",\"Pencil\",\"Chair\"],\n",
    "    \"Price\":[56000,78000,100,50,1200],\n",
    "    \"stock\":[60,100,30,40,50],\n",
    "    \"category\":[\"electonics\",\"electronics\",\"stationary\",\"stationary\",\"furniture\"]\n",
    "}\n",
    "df1=pd.DataFrame(product)\n",
    "print(df1)"
   ]
  },
  {
   "cell_type": "code",
   "execution_count": 20,
   "id": "0150c5b9",
   "metadata": {},
   "outputs": [
    {
     "name": "stdout",
     "output_type": "stream",
     "text": [
      "   pid   pname  Price  stock    category\n",
      "2  103     pen    100     30  stationary\n",
      "3  104  Pencil     50     40  stationary\n"
     ]
    }
   ],
   "source": [
    "# print(df1[df1[\"Price\"]>5000])\n",
    "# print(df1[df1[\"category\"]==\"electonics\"])\n",
    "# print(df1[(df1[\"Price\"]>10]) & (df1[df1[\"category\"]==\"stationary\"]))\n",
    "\n",
    "print(df1[(df1[\"Price\"]>20) & (df1[\"category\"]==\"stationary\")])"
   ]
  },
  {
   "cell_type": "code",
   "execution_count": 19,
   "id": "52fb090d",
   "metadata": {},
   "outputs": [
    {
     "data": {
      "text/html": [
       "<div>\n",
       "<style scoped>\n",
       "    .dataframe tbody tr th:only-of-type {\n",
       "        vertical-align: middle;\n",
       "    }\n",
       "\n",
       "    .dataframe tbody tr th {\n",
       "        vertical-align: top;\n",
       "    }\n",
       "\n",
       "    .dataframe thead th {\n",
       "        text-align: right;\n",
       "    }\n",
       "</style>\n",
       "<table border=\"1\" class=\"dataframe\">\n",
       "  <thead>\n",
       "    <tr style=\"text-align: right;\">\n",
       "      <th></th>\n",
       "      <th>pid</th>\n",
       "      <th>pname</th>\n",
       "      <th>Price</th>\n",
       "      <th>stock</th>\n",
       "      <th>category</th>\n",
       "    </tr>\n",
       "  </thead>\n",
       "  <tbody>\n",
       "    <tr>\n",
       "      <th>4</th>\n",
       "      <td>105</td>\n",
       "      <td>Chair</td>\n",
       "      <td>1200</td>\n",
       "      <td>50</td>\n",
       "      <td>furniture</td>\n",
       "    </tr>\n",
       "    <tr>\n",
       "      <th>3</th>\n",
       "      <td>104</td>\n",
       "      <td>Pencil</td>\n",
       "      <td>50</td>\n",
       "      <td>40</td>\n",
       "      <td>stationary</td>\n",
       "    </tr>\n",
       "    <tr>\n",
       "      <th>2</th>\n",
       "      <td>103</td>\n",
       "      <td>pen</td>\n",
       "      <td>100</td>\n",
       "      <td>30</td>\n",
       "      <td>stationary</td>\n",
       "    </tr>\n",
       "    <tr>\n",
       "      <th>1</th>\n",
       "      <td>102</td>\n",
       "      <td>Laptop</td>\n",
       "      <td>78000</td>\n",
       "      <td>100</td>\n",
       "      <td>electronics</td>\n",
       "    </tr>\n",
       "    <tr>\n",
       "      <th>0</th>\n",
       "      <td>101</td>\n",
       "      <td>Mobile</td>\n",
       "      <td>56000</td>\n",
       "      <td>60</td>\n",
       "      <td>electonics</td>\n",
       "    </tr>\n",
       "  </tbody>\n",
       "</table>\n",
       "</div>"
      ],
      "text/plain": [
       "   pid   pname  Price  stock     category\n",
       "4  105   Chair   1200     50    furniture\n",
       "3  104  Pencil     50     40   stationary\n",
       "2  103     pen    100     30   stationary\n",
       "1  102  Laptop  78000    100  electronics\n",
       "0  101  Mobile  56000     60   electonics"
      ]
     },
     "execution_count": 19,
     "metadata": {},
     "output_type": "execute_result"
    }
   ],
   "source": [
    "# df1.sort_index(axis=1)\n",
    "df1.sort_index(axis=0,ascending=False)"
   ]
  }
 ],
 "metadata": {
  "kernelspec": {
   "display_name": "Python 3",
   "language": "python",
   "name": "python3"
  },
  "language_info": {
   "codemirror_mode": {
    "name": "ipython",
    "version": 3
   },
   "file_extension": ".py",
   "mimetype": "text/x-python",
   "name": "python",
   "nbconvert_exporter": "python",
   "pygments_lexer": "ipython3",
   "version": "3.13.2"
  }
 },
 "nbformat": 4,
 "nbformat_minor": 5
}
