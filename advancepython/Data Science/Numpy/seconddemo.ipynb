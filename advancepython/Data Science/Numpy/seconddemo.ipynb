{
 "cells": [
  {
   "cell_type": "code",
   "execution_count": 1,
   "id": "a6430394",
   "metadata": {},
   "outputs": [
    {
     "data": {
      "text/plain": [
       "array(['Apple', 'Banana', 'Mango', 'Orange', 'Kiwi'], dtype='<U6')"
      ]
     },
     "execution_count": 1,
     "metadata": {},
     "output_type": "execute_result"
    }
   ],
   "source": [
    "import numpy as np\n",
    "\n",
    "fruit=np.array ([\"Apple\",\"Banana\",\"Mango\",\"Orange\",\"Kiwi\"])\n",
    "fruit\n",
    "\n"
   ]
  },
  {
   "cell_type": "code",
   "execution_count": null,
   "id": "9df437fc",
   "metadata": {},
   "outputs": [
    {
     "data": {
      "text/plain": [
       "array(['Apple', 'Mango', 'Kiwi'], dtype='<U6')"
      ]
     },
     "execution_count": 2,
     "metadata": {},
     "output_type": "execute_result"
    }
   ],
   "source": [
    "# arr=fruit[0:5:2]\n",
    "# arr"
   ]
  },
  {
   "cell_type": "code",
   "execution_count": null,
   "id": "f92011fc",
   "metadata": {},
   "outputs": [
    {
     "data": {
      "text/plain": [
       "array(['Kiwi', 'Mango', 'Apple'], dtype='<U6')"
      ]
     },
     "execution_count": 3,
     "metadata": {},
     "output_type": "execute_result"
    }
   ],
   "source": [
    "# new_arr=arr[::-1]\n",
    "# new_arr"
   ]
  },
  {
   "cell_type": "code",
   "execution_count": 8,
   "id": "34ea73b0",
   "metadata": {},
   "outputs": [
    {
     "name": "stdout",
     "output_type": "stream",
     "text": [
      "int64\n"
     ]
    }
   ],
   "source": [
    "num=np.array([12,23,12,34,23,45,453,34])\n",
    "# print(num.max())\n",
    "# print(num.min())\n",
    "# print(num.size)\n",
    "print(num.dtype)"
   ]
  },
  {
   "cell_type": "code",
   "execution_count": 15,
   "id": "208dbb9c",
   "metadata": {},
   "outputs": [
    {
     "name": "stdout",
     "output_type": "stream",
     "text": [
      "9\n",
      "\n",
      "27\n",
      "\n"
     ]
    }
   ],
   "source": [
    "arr2=np.array([[2,3,4],[5,6,7]])\n",
    "# print(arr2[0][2])\n",
    "sum=0\n",
    "for i in arr2:\n",
    "    for j in i:\n",
    "        sum=sum+j\n",
    "        # print(j,end= \" \")\n",
    "    print(sum)   \n",
    "    print()"
   ]
  },
  {
   "cell_type": "code",
   "execution_count": 16,
   "id": "22436ef9",
   "metadata": {},
   "outputs": [
    {
     "name": "stdout",
     "output_type": "stream",
     "text": [
      "[ 12 100  12  34  23  45 453  34]\n",
      "[ 12  23  12  34  23  45 453  34]\n"
     ]
    }
   ],
   "source": [
    "copyarr=num.copy()\n",
    "num[1]=100\n",
    "print(num)\n",
    "print(copyarr)"
   ]
  }
 ],
 "metadata": {
  "kernelspec": {
   "display_name": "Python 3",
   "language": "python",
   "name": "python3"
  },
  "language_info": {
   "codemirror_mode": {
    "name": "ipython",
    "version": 3
   },
   "file_extension": ".py",
   "mimetype": "text/x-python",
   "name": "python",
   "nbconvert_exporter": "python",
   "pygments_lexer": "ipython3",
   "version": "3.13.2"
  }
 },
 "nbformat": 4,
 "nbformat_minor": 5
}
